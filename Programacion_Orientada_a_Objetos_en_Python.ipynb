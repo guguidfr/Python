{
  "cells": [
    {
      "cell_type": "code",
      "execution_count": null,
      "metadata": {
        "id": "dGvOEW_LBrc9"
      },
      "outputs": [],
      "source": []
    },
    {
      "cell_type": "markdown",
      "metadata": {
        "id": "wwRKgxpMBupT"
      },
      "source": [
        "# Programación Orientada a Objetos en Python\n",
        "\n",
        "Python es un lenguaje de propósito general multiparadigma. Se puede usar para programación imperativa, funcional y programación orientada a objetos.\n",
        "\n",
        "En Python, todo es un objeto: los valores que se asignan a variables, las funciones, las listas, las tuplas, los conjuntos, etc."
      ]
    },
    {
      "cell_type": "markdown",
      "metadata": {
        "id": "OtwugVUkqhqi"
      },
      "source": [
        "# Clases y objetos\n",
        "\n",
        "La programación orientada a objetos es un paradigma de programación que se basa, como su nombre indica, en la utilización de objetos. Estos objetos también se suelen\n",
        "llamar instancias.\n",
        "\n",
        "Un objeto en términos de POO no se diferencia mucho de lo que conocemos como un objeto en la vida real. Pensemos por ejemplo en un coche. Nuestro coche sería un objeto concreto de la vida real, igual que el coche del vecino, o el coche de un compañero de trabajo, o un deportivo que vimos por la calle el fin de semana pasado… Todos esos coches son objetos concretos que podemos ver y tocar.\n",
        "\n",
        "Tanto mi coche como el coche del vecino tienen algo en común, ambos son coches. En este caso mi coche y el coche del vecino serían **instancias** (objetos) y coche (a\n",
        "secas) sería una **clase**. La palabra coche define algo genérico, es una abstracción, no es un coche concreto sino que hace referencia a unos elementos que tienen una serie de propiedades como matrícula, marca, modelo, color, etc.; este conjunto de propiedades se denominan **atributos** o **variables de instancia**."
      ]
    },
    {
      "cell_type": "markdown",
      "metadata": {
        "id": "ObLRHxdQrV97"
      },
      "source": [
        "**Clase**\n",
        "\n",
        "Concepto abstracto que denota una serie de cualidades, por ejemplo coche.\n",
        "\n",
        "**Instancia**\n",
        "\n",
        "Objeto palpable, que se deriva de la concreción de una clase, por ejemplo mi coche.\n",
        "\n",
        "**Atributos**\n",
        "\n",
        "Conjunto de características que comparten los objetos de una clase, por ejemplo para la clase coche tendríamos matrícula, marca, modelo, color y número de plazas."
      ]
    },
    {
      "cell_type": "code",
      "execution_count": 2,
      "metadata": {
        "id": "OhEaBLQmgyLw"
      },
      "outputs": [],
      "source": [
        "class Gato:\n",
        "  \"\"\"Esta clase define las características y el comportamiento de los gatos\"\"\"\n",
        "\n",
        "  def __init__ (self, c = \"pardo\", r = \"mestizo\", s = \"hembra\", e = 1, p = 1.5):\n",
        "    \"\"\"Constructor con parámetros por defecto.\"\"\"\n",
        "    self.color = c\n",
        "    self.raza = r\n",
        "    self.sexo = s\n",
        "    self.edad = e\n",
        "    self.peso = p\n",
        "  \n",
        "  def maulla(self):\n",
        "    print(\"Miauuuu\")\n",
        " \n",
        "  def ronronea(self):\n",
        "    print(\"mrrrrrr\");\n",
        "    \n",
        "  def come(self, comida):\n",
        "    \"\"\"A los gatos les gusta el pescado, si le damos otra comida, la rechazará.\"\"\"\n",
        "    if comida == \"pescado\":\n",
        "      print(\"Hmmmm, gracias\")\n",
        "    else:\n",
        "      print(\"Lo siento, yo solo como pescado\")\n",
        "\n",
        "  def pelea_con(self, contrincante):\n",
        "    \"\"\"\n",
        "    Pone a pelear dos gatos.\n",
        "    Solo se van a pelear dos machos entre sí.\n",
        "    \"\"\"\n",
        "    if self.sexo == \"hembra\":\n",
        "      print(\"no me gusta pelear\")\n",
        "    else:\n",
        "      if contrincante.sexo == \"hembra\":\n",
        "        print(\"no peleo contra gatitas\")\n",
        "      else:\n",
        "        print(\"ven aquí que te vas a enterar\")\n"
      ]
    },
    {
      "cell_type": "markdown",
      "metadata": {
        "id": "nnF6dvMQhmXe"
      },
      "source": [
        "**Nota**: Los nombres de las clases se escriben en *UpperCamelCase* y los métodos y atributos en *snake_case*."
      ]
    },
    {
      "cell_type": "code",
      "execution_count": 3,
      "metadata": {
        "colab": {
          "base_uri": "https://localhost:8080/"
        },
        "id": "3Im7ZzALgyBn",
        "outputId": "0c9d25fe-bdd9-4a53-f860-70411ca95be8"
      },
      "outputs": [
        {
          "name": "stdout",
          "output_type": "stream",
          "text": [
            "hola gatito\n",
            "Miauuuu\n",
            "toma tarta\n",
            "Lo siento, yo solo como pescado\n",
            "toma pescado, a ver si esto te gusta\n",
            "Hmmmm, gracias\n",
            "Tom, toma sopita de verduras\n",
            "Lo siento, yo solo como pescado\n",
            "gatitos, a ver cómo maulláis\n",
            "Miauuuu\n",
            "Miauuuu\n",
            "Miauuuu\n",
            "no peleo contra gatitas\n",
            "no me gusta pelear\n",
            "ven aquí que te vas a enterar\n"
          ]
        }
      ],
      "source": [
        "# Prueba la clase Gato\n",
        "    \n",
        "garfield = Gato(s = \"macho\")\n",
        "\n",
        "print(\"hola gatito\")\n",
        "garfield.maulla()\n",
        "\n",
        "print(\"toma tarta\")\n",
        "garfield.come(\"tarta selva negra\")\n",
        "print(\"toma pescado, a ver si esto te gusta\")\n",
        "garfield.come(\"pescado\")\n",
        "\n",
        "tom = Gato(s = \"macho\", p = 2.5)\n",
        "\n",
        "print(\"Tom, toma sopita de verduras\")\n",
        "tom.come(\"sopa de verduras\")\n",
        "\n",
        "lisa = Gato(\"blanco\", \"angora\", \"hembra\", 3, 1.75)\n",
        "\n",
        "print(\"gatitos, a ver cómo maulláis\")\n",
        "garfield.maulla()\n",
        "tom.maulla()\n",
        "lisa.maulla()\n",
        "\n",
        "garfield.pelea_con(lisa)\n",
        "lisa.pelea_con(tom)\n",
        "tom.pelea_con(garfield)\n"
      ]
    },
    {
      "cell_type": "markdown",
      "metadata": {
        "id": "-XzpCKrNiyZd"
      },
      "source": [
        "**IMPORTANTE**: A diferencia de otros lenguajes de programación, solo está permitido definir un constructor."
      ]
    },
    {
      "cell_type": "markdown",
      "metadata": {
        "id": "JoHsCt1Cj0Kc"
      },
      "source": [
        "Los atributos se pueden crear \"sobre la marcha\" y solo para algunos objetos. En el momento que se les da un valor por primera vez, se crean."
      ]
    },
    {
      "cell_type": "markdown",
      "metadata": {
        "id": "KfTPnRWfksiz"
      },
      "source": [
        "## Método `__str__()`\n",
        "\n",
        "El método `__str__()` es el equivalente al `toString()` de Java. Permite mostrar el contenido de un objeto de forma \"amigable\". "
      ]
    },
    {
      "cell_type": "code",
      "execution_count": 4,
      "metadata": {
        "colab": {
          "base_uri": "https://localhost:8080/"
        },
        "id": "_T3GlhP0gx4p",
        "outputId": "f72b7627-826d-4f4a-cbc5-87f551fd64c6"
      },
      "outputs": [
        {
          "name": "stdout",
          "output_type": "stream",
          "text": [
            "<__main__.Gato object at 0x7f8ea6e90ad0>\n"
          ]
        }
      ],
      "source": [
        "print(garfield)"
      ]
    },
    {
      "cell_type": "code",
      "execution_count": 12,
      "metadata": {
        "id": "Fk2T8zegkNeG"
      },
      "outputs": [],
      "source": [
        "class Gato:\n",
        "  \"\"\"Esta clase define las características y el comportamiento de los gatos\"\"\"\n",
        "\n",
        "  def __init__ (self, c = \"pardo\", r = \"mestizo\", s = \"hembra\", e = 1, p = 1.5):\n",
        "    \"\"\"Constructor con parámetros por defecto.\"\"\"\n",
        "    self.color = c\n",
        "    self.raza = r\n",
        "    self.sexo = s\n",
        "    self.edad = e\n",
        "    self.peso = p\n",
        "  \n",
        "  def __str__(self) -> str:\n",
        "    gatx = \"gato\" if self.sexo == \"macho\" else \"gata\"\n",
        "    return f\"Hola, soy un {gatx} de color {self.color}, de raza {self.raza}.\"\n",
        "    + \" Tengo {sexo.edad} años y peso {sexo.peso} kilos.\"\n",
        "\n",
        "  def maulla(self):\n",
        "    print(\"Miauuuu\")\n",
        " \n",
        "  def ronronea(self):\n",
        "    print(\"mrrrrrr\");\n",
        "    \n",
        "  def come(self, comida):\n",
        "    \"\"\"A los gatos les gusta el pescado, si le damos otra comida, la rechazará.\"\"\"\n",
        "    if comida == \"pescado\":\n",
        "      print(\"Hmmmm, gracias\")\n",
        "    else:\n",
        "      print(\"Lo siento, yo solo como pescado\")\n",
        "\n",
        "  def pelea_con(self, contrincante):\n",
        "    \"\"\"\n",
        "    Pone a pelear dos gatos.\n",
        "    Solo se van a pelear dos machos entre sí.\n",
        "    \"\"\"\n",
        "    if self.sexo == \"hembra\":\n",
        "      print(\"no me gusta pelear\")\n",
        "    else:\n",
        "      if contrincante.sexo == \"hembra\":\n",
        "        print(\"no peleo contra gatitas\")\n",
        "      else:\n",
        "        print(\"ven aquí que te vas a enterar\")\n"
      ]
    },
    {
      "cell_type": "code",
      "execution_count": 13,
      "metadata": {
        "colab": {
          "base_uri": "https://localhost:8080/"
        },
        "id": "Cfc1qhTmoz3V",
        "outputId": "82b6f479-4d99-44e4-dc7a-0a60f9c223a3"
      },
      "outputs": [
        {
          "name": "stdout",
          "output_type": "stream",
          "text": [
            "Hola, soy un gato de color pardo, de raza mestizo.\n"
          ]
        }
      ],
      "source": [
        "pepe = Gato(s = \"macho\", c = \"pardo\", p = 2)\n",
        "print(pepe)"
      ]
    },
    {
      "cell_type": "markdown",
      "metadata": {
        "id": "_pCbviAiqWBe"
      },
      "source": [
        "## Atributos y métodos de clase\n",
        "\n",
        "Se aplican a la clase, no a objetos particulares."
      ]
    },
    {
      "cell_type": "code",
      "execution_count": 2,
      "metadata": {
        "id": "xRx8gRbpo2TV"
      },
      "outputs": [],
      "source": [
        "class Vehiculo:\n",
        "\n",
        "  # atributo de clase\n",
        "  kilometraje_total = 0\n",
        "  \n",
        "  def __init__(self, ma = \"Saab\", mo = \"93\"):\n",
        "    self.marca = ma;\n",
        "    self.modelo = mo;\n",
        "    self.kilometraje = 0;\n",
        "\n",
        "  @classmethod\n",
        "  def muestra_kilometraje_total(cls):\n",
        "    \"\"\"Implementación de un método de clase que muestra el kilometraje total.\"\"\"\n",
        "    print(f\"Entre todos los vehículos han recorrido {Vehiculo.kilometraje_total} Km\")\n",
        "\n",
        "  def recorre(self, km):\n",
        "    \"\"\"Recorre una determinada distancia.\"\"\"\n",
        "    self.kilometraje += km;\n",
        "    Vehiculo.kilometraje_total += km;\n"
      ]
    },
    {
      "cell_type": "code",
      "execution_count": 3,
      "metadata": {
        "id": "yZw8eNI-pkeb"
      },
      "outputs": [],
      "source": [
        "vehiculo1 = Vehiculo(\"Porsche\", \"911\")\n",
        "vehiculo2 = Vehiculo(\"Moto Guzzi\", \"V7\")\n",
        "vehiculo3 = Vehiculo(\"BH\", \"Speedrom\")\n",
        "vehiculo4 = Vehiculo(\"Audi\",\"Modelo no se cual\")"
      ]
    },
    {
      "cell_type": "code",
      "execution_count": 4,
      "metadata": {
        "id": "JXd99Aq1tnR9"
      },
      "outputs": [],
      "source": [
        "vehiculo1.recorre(200)\n",
        "vehiculo2.recorre(100)\n",
        "vehiculo3.recorre(40)\n",
        "vehiculo4.recorre(50)"
      ]
    },
    {
      "cell_type": "code",
      "execution_count": 5,
      "metadata": {
        "colab": {
          "base_uri": "https://localhost:8080/"
        },
        "id": "x5pJg6sUxXHq",
        "outputId": "c408cf2e-15d4-4ce0-d982-95e8e5d56ff1"
      },
      "outputs": [
        {
          "name": "stdout",
          "output_type": "stream",
          "text": [
            "200\n",
            "100\n",
            "40\n",
            "50\n"
          ]
        }
      ],
      "source": [
        "print(vehiculo1.kilometraje)\n",
        "print(vehiculo2.kilometraje)\n",
        "print(vehiculo3.kilometraje)\n",
        "print(vehiculo4.kilometraje)"
      ]
    },
    {
      "cell_type": "code",
      "execution_count": 6,
      "metadata": {
        "colab": {
          "base_uri": "https://localhost:8080/"
        },
        "id": "MHNybMNkucEo",
        "outputId": "5128c6a1-6ba2-4a4b-8142-70040447d7dd"
      },
      "outputs": [
        {
          "name": "stdout",
          "output_type": "stream",
          "text": [
            "Entre todos los vehículos han recorrido 390 Km\n"
          ]
        }
      ],
      "source": [
        "Vehiculo.muestra_kilometraje_total()"
      ]
    },
    {
      "cell_type": "markdown",
      "metadata": {
        "id": "4NzwQ07nzLUt"
      },
      "source": [
        "## Herencia"
      ]
    },
    {
      "cell_type": "code",
      "execution_count": 50,
      "metadata": {
        "id": "IoBl-yReujZR"
      },
      "outputs": [],
      "source": [
        "class Coche(Vehiculo):\n",
        "  \"\"\"El coche es una subclase de vehículo.\"\"\"\n",
        "  def __init__(self, ma = \"Saab\", mo = \"93\", cv = 100):\n",
        "    Vehiculo.__init__(self, ma, mo)\n",
        "    self.cv = cv;\n",
        "    \n",
        "  def recorre(self, km):\n",
        "    \"\"\"Recorre una determinada distancia.\"\"\"\n",
        "    Vehiculo.recorre(self, km)\n",
        "    print(\"¡Estoy quemando gasolina!\")"
      ]
    },
    {
      "cell_type": "code",
      "execution_count": 51,
      "metadata": {
        "id": "ZqBeVvQh0eb3"
      },
      "outputs": [],
      "source": [
        "class Bicicleta(Vehiculo):\n",
        "  \"\"\"El coche es una subclase de vehículo.\"\"\"\n",
        "  def __init__(self, ma = \"Saab\", mo = \"93\", pinones = 10):\n",
        "    Vehiculo.__init__(self, ma, mo)\n",
        "    self.pinones = pinones;\n",
        "    \n",
        "  def recorre(self, km):\n",
        "    \"\"\"Recorre una determinada distancia.\"\"\"\n",
        "    Vehiculo.recorre(self, km)\n",
        "    print(\"¡Estoy haciendo ejercicio!\")"
      ]
    },
    {
      "cell_type": "code",
      "execution_count": 52,
      "metadata": {
        "id": "WdaDeWl-0p8F"
      },
      "outputs": [],
      "source": [
        "coche1 = Coche(\"Citroen\", \"C5\", 150)\n",
        "bici1 = Bicicleta(\"Orbea\", \"Furia\", 1)"
      ]
    },
    {
      "cell_type": "code",
      "execution_count": 53,
      "metadata": {
        "colab": {
          "base_uri": "https://localhost:8080/"
        },
        "id": "TrYmBy4Q068c",
        "outputId": "53d46292-a704-42c8-cda2-5c3f187d15e1"
      },
      "outputs": [
        {
          "name": "stdout",
          "output_type": "stream",
          "text": [
            "¡Estoy quemando gasolina!\n",
            "¡Estoy haciendo ejercicio!\n"
          ]
        }
      ],
      "source": [
        "coche1.recorre(450)\n",
        "bici1.recorre(80)"
      ]
    },
    {
      "cell_type": "code",
      "execution_count": null,
      "metadata": {
        "id": "pe64Z6bl2pE5"
      },
      "outputs": [],
      "source": []
    }
  ],
  "metadata": {
    "colab": {
      "collapsed_sections": [],
      "provenance": []
    },
    "kernelspec": {
      "display_name": "Python 3.10.7 64-bit",
      "language": "python",
      "name": "python3"
    },
    "language_info": {
      "codemirror_mode": {
        "name": "ipython",
        "version": 3
      },
      "file_extension": ".py",
      "mimetype": "text/x-python",
      "name": "python",
      "nbconvert_exporter": "python",
      "pygments_lexer": "ipython3",
      "version": "3.10.7"
    },
    "vscode": {
      "interpreter": {
        "hash": "535a1765eade9418e23f42dd0be2f9d3715366318b517911f9ee3ebda92030be"
      }
    }
  },
  "nbformat": 4,
  "nbformat_minor": 0
}
