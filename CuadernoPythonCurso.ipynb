{
  "cells": [
    {
      "cell_type": "markdown",
      "metadata": {
        "id": "Z05ZOMeDoWqM"
      },
      "source": [
        "# **Primeros pasos en Python**\n"
      ]
    },
    {
      "cell_type": "markdown",
      "metadata": {
        "id": "NMi61Aud1RoB"
      },
      "source": [
        "## **Lo básico**"
      ]
    },
    {
      "cell_type": "markdown",
      "metadata": {
        "id": "jnV2bjpspKJx"
      },
      "source": [
        "### Declaración de variables  \n",
        "En Python las variables se declaran poniendo el nombre de la variable junto al símbolo de igual *`=`* y su valor."
      ]
    },
    {
      "cell_type": "code",
      "execution_count": 4,
      "metadata": {
        "id": "ECGxYEwpzzNl"
      },
      "outputs": [],
      "source": [
        "saludo = \"Hello World!\"\n",
        "valor_numerico = 5\n",
        "condicion = True"
      ]
    },
    {
      "cell_type": "markdown",
      "metadata": {
        "id": "RMX3dvYr0kNu"
      },
      "source": [
        "En nuestra sintaxis, usaremos *snake case* para nombrar las variables, es decir: las variables que estén compuestas por varias palabras, las separaremos por un guión bajo `_`, y siempre estarán escritas en minúsculas *(o al menos es lo más recomendable)*."
      ]
    },
    {
      "cell_type": "markdown",
      "metadata": {},
      "source": [
        "### Alcance de variables.  \n",
        "El alcance de las variables puede ser local o global.  \n",
        "Las globales son accesibles para todas las funciones del programa, y están pensadas para que más que variables, sean *constantes*. Las variables globales no se suelen modificar.  \n",
        "Si queremos pasar una variable a una función, lo hacemos por referencia, para así asegurarnos no romper nada de nuestro código.  "
      ]
    },
    {
      "cell_type": "code",
      "execution_count": 2,
      "metadata": {},
      "outputs": [
        {
          "name": "stdout",
          "output_type": "stream",
          "text": [
            "La variable 'x' dentro de la función vale: 8\n",
            "La variable 'x' fuera de la función vale: 5\n"
          ]
        }
      ],
      "source": [
        "\"\"\"\n",
        "En este ejemplo nos encontramos con 2 variables con el mismo nombre: x\n",
        "La primera de ellas no afecta a la función 'modificar', mientras que la que está dentro de la función, solamente existe dentro de ella.\n",
        "\"\"\"\n",
        "x = 5\n",
        "def modificar():\n",
        "    x = 8\n",
        "    print(f\"La variable 'x' dentro de la función vale: {x}\")\n",
        "modificar()\n",
        "print(f\"La variable 'x' fuera de la función vale: {x}\")"
      ]
    },
    {
      "cell_type": "code",
      "execution_count": 3,
      "metadata": {},
      "outputs": [
        {
          "name": "stdout",
          "output_type": "stream",
          "text": [
            "La variable 'x' dentro de la función vale: 13\n",
            "La variable 'x' fuera de la función vale: 5\n"
          ]
        }
      ],
      "source": [
        "# Aquí pasamos la 'x' que hemos definido al principio a la función 'modificar', pero en este caso, solamente se modificará de manera local.\n",
        "x = 5\n",
        "def modificar(x):\n",
        "    x = x + 8\n",
        "    print(f\"La variable 'x' dentro de la función vale: {x}\")\n",
        "modificar(x)\n",
        "print(f\"La variable 'x' fuera de la función vale: {x}\")"
      ]
    },
    {
      "cell_type": "code",
      "execution_count": 4,
      "metadata": {},
      "outputs": [
        {
          "ename": "UnboundLocalError",
          "evalue": "local variable 'x' referenced before assignment",
          "output_type": "error",
          "traceback": [
            "\u001b[1;31m---------------------------------------------------------------------------\u001b[0m",
            "\u001b[1;31mUnboundLocalError\u001b[0m                         Traceback (most recent call last)",
            "Cell \u001b[1;32mIn [4], line 6\u001b[0m\n\u001b[0;32m      4\u001b[0m     x \u001b[39m=\u001b[39m x \u001b[39m+\u001b[39m \u001b[39m8\u001b[39m\n\u001b[0;32m      5\u001b[0m     \u001b[39mprint\u001b[39m(\u001b[39mf\u001b[39m\u001b[39m\"\u001b[39m\u001b[39mLa variable \u001b[39m\u001b[39m'\u001b[39m\u001b[39mx\u001b[39m\u001b[39m'\u001b[39m\u001b[39m dentro de la función vale: \u001b[39m\u001b[39m{\u001b[39;00mx\u001b[39m}\u001b[39;00m\u001b[39m\"\u001b[39m)\n\u001b[1;32m----> 6\u001b[0m modificar()\n\u001b[0;32m      7\u001b[0m \u001b[39mprint\u001b[39m(\u001b[39mf\u001b[39m\u001b[39m\"\u001b[39m\u001b[39mLa variable \u001b[39m\u001b[39m'\u001b[39m\u001b[39mx\u001b[39m\u001b[39m'\u001b[39m\u001b[39m fuera de la función vale: \u001b[39m\u001b[39m{\u001b[39;00mx\u001b[39m}\u001b[39;00m\u001b[39m\"\u001b[39m)\n",
            "Cell \u001b[1;32mIn [4], line 4\u001b[0m, in \u001b[0;36mmodificar\u001b[1;34m()\u001b[0m\n\u001b[0;32m      3\u001b[0m \u001b[39mdef\u001b[39;00m \u001b[39mmodificar\u001b[39m():\n\u001b[1;32m----> 4\u001b[0m     x \u001b[39m=\u001b[39m x \u001b[39m+\u001b[39m \u001b[39m8\u001b[39m\n\u001b[0;32m      5\u001b[0m     \u001b[39mprint\u001b[39m(\u001b[39mf\u001b[39m\u001b[39m\"\u001b[39m\u001b[39mLa variable \u001b[39m\u001b[39m'\u001b[39m\u001b[39mx\u001b[39m\u001b[39m'\u001b[39m\u001b[39m dentro de la función vale: \u001b[39m\u001b[39m{\u001b[39;00mx\u001b[39m}\u001b[39;00m\u001b[39m\"\u001b[39m)\n",
            "\u001b[1;31mUnboundLocalError\u001b[0m: local variable 'x' referenced before assignment"
          ]
        }
      ],
      "source": [
        "# Si no le pasamos la 'x' e intentamos modificarla, obtendremos un error\n",
        "x = 5\n",
        "def modificar():\n",
        "    x = x + 8\n",
        "    print(f\"La variable 'x' dentro de la función vale: {x}\")\n",
        "modificar()\n",
        "print(f\"La variable 'x' fuera de la función vale: {x}\")"
      ]
    },
    {
      "cell_type": "code",
      "execution_count": 1,
      "metadata": {},
      "outputs": [
        {
          "name": "stdout",
          "output_type": "stream",
          "text": [
            "La variable 'y' dentro de la función vale: 10\n"
          ]
        },
        {
          "ename": "NameError",
          "evalue": "name 'y' is not defined",
          "output_type": "error",
          "traceback": [
            "\u001b[1;31m---------------------------------------------------------------------------\u001b[0m",
            "\u001b[1;31mNameError\u001b[0m                                 Traceback (most recent call last)",
            "Cell \u001b[1;32mIn [1], line 6\u001b[0m\n\u001b[0;32m      4\u001b[0m     \u001b[39mprint\u001b[39m(\u001b[39mf\u001b[39m\u001b[39m\"\u001b[39m\u001b[39mLa variable \u001b[39m\u001b[39m'\u001b[39m\u001b[39my\u001b[39m\u001b[39m'\u001b[39m\u001b[39m dentro de la función vale: \u001b[39m\u001b[39m{\u001b[39;00my\u001b[39m}\u001b[39;00m\u001b[39m\"\u001b[39m)\n\u001b[0;32m      5\u001b[0m modificar()\n\u001b[1;32m----> 6\u001b[0m \u001b[39mprint\u001b[39m(\u001b[39mf\u001b[39m\u001b[39m\"\u001b[39m\u001b[39mLa variable \u001b[39m\u001b[39m'\u001b[39m\u001b[39my\u001b[39m\u001b[39m'\u001b[39m\u001b[39m fuera de la función vale: \u001b[39m\u001b[39m{\u001b[39;00my\u001b[39m}\u001b[39;00m\u001b[39m\"\u001b[39m)\n",
            "\u001b[1;31mNameError\u001b[0m: name 'y' is not defined"
          ]
        }
      ],
      "source": [
        "# Si intentamos imprimir una variable local de una función fuera de ella, obtendremos un error\n",
        "def modificar():\n",
        "    y = 10\n",
        "    print(f\"La variable 'y' dentro de la función vale: {y}\")\n",
        "modificar()\n",
        "print(f\"La variable 'y' fuera de la función vale: {y}\")"
      ]
    },
    {
      "cell_type": "markdown",
      "metadata": {
        "id": "odYIgTXIqg_2"
      },
      "source": [
        "### Función `print`:  \n",
        "  - Hacer operaciones aritméticas\n",
        "  - Mezclar texto entrecomillado junto a variables\n",
        "  - Concatenar distintas cadenas de texto o incluso imprimirla varias veces\n",
        "  - Usar funciones del lenguaje  "
      ]
    },
    {
      "cell_type": "code",
      "execution_count": 9,
      "metadata": {
        "colab": {
          "base_uri": "https://localhost:8080/"
        },
        "id": "3h34cRF6rJOe",
        "outputId": "1ad442f5-8fcc-48cf-ca73-3333127e70f4"
      },
      "outputs": [
        {
          "name": "stdout",
          "output_type": "stream",
          "text": [
            "José Daniel\n",
            "Mi nombre es: José Daniel\n",
            "El tipo de 'saludo' es: <class 'str'>\n",
            "El saludo 3 veces es: HolaHolaHola\n",
            "El nombre junto al saludo: José DanielHola\n",
            "El doble de la edad es: 40\n",
            "El tipo de 'edad' es: <class 'int'>\n",
            "El tipo de 'altura' es: <class 'float'>\n",
            "Podemos mezclar las variables de tipo 'str' con las 'int': José DanielJosé DanielJosé Daniel\n",
            "Tamibén podemos usar expresiones más complejas como: ((5+3)*(2*4))/3 = 21.333333333333332\n",
            "El valor de 'a' es: 2 - El valor de 'b' es: 4\n"
          ]
        }
      ],
      "source": [
        "nombre = \"José Daniel\"\n",
        "edad = 20\n",
        "altura = 1.80\n",
        "numero = 3\n",
        "saludo = \"Hola\"\n",
        "print(nombre) # Muestra solamente la variable\n",
        "print(f\"Mi nombre es: {nombre}\") # Usando 'f' dentro del paréntesis del 'print', podemos mostrar el valor de las variables junto con el texto\n",
        "print(f\"El tipo de 'saludo' es: {type(saludo)}\") # Mostramos el valor de la variable 'saludo'\n",
        "print(f\"El saludo 3 veces es: {saludo * 3}\") # Si hacemos la multiplicación de una variable 'str', la concatenaremos\n",
        "print(f\"El nombre junto al saludo: {nombre + saludo}\") # También podemos concatenar varias variables de texto\n",
        "print(f\"El doble de la edad es: {edad * 2}\") # Podemos hacer operaciones con números de cualquier tipo, pero todos deben ser del mismo\n",
        "print(f\"El tipo de 'edad' es: {type(edad)}\")\n",
        "print(f\"El tipo de 'altura' es: {type(altura)}\")\n",
        "# Si operamos con variables de distinto tipo, obtendremos un error.\n",
        "print(f\"Podemos mezclar las variables de tipo 'str' con las 'int': {nombre * numero}\")\n",
        "print(f\"Tamibén podemos usar expresiones más complejas como: ((5+3)*(2*4))/3 = {((5+3)*(2*4))/3}\")\n",
        "# También podemos declarar varias variables en la misma línea\n",
        "a, b = 2, 4\n",
        "print(f\"El valor de 'a' es: {a} - El valor de 'b' es: {b}\")\n"
      ]
    },
    {
      "cell_type": "markdown",
      "metadata": {},
      "source": [
        "## **¡Objetos!**"
      ]
    },
    {
      "cell_type": "markdown",
      "metadata": {},
      "source": [
        "### Introducción a los objetos  "
      ]
    },
    {
      "cell_type": "markdown",
      "metadata": {},
      "source": [
        "En Python, los objetos no difieren mucho de los objetos reales:  \n",
        "- Tienen un nombre.  \n",
        "- Tienen atributos.  \n",
        "- Puede haber variantes de un mismo objeto.  \n",
        "\n",
        "En este lenguaje, en lugar de llamarse *objetos* como tal, los llamamos *clases*, y a las cosas que pueden hacer, *métodos*.  \n",
        "Un método es básicamente una función dentro de un objeto.  \n",
        "Este es un ejemplo de declarar el objeto: Gato\n",
        "> Los objetos se declaran en CamelCase, y sus métodos en snake_case  \n",
        "> El tipo 'self' se explicará después de este ejemplo"
      ]
    },
    {
      "cell_type": "code",
      "execution_count": 2,
      "metadata": {},
      "outputs": [],
      "source": [
        "class Gato:\n",
        "  \"\"\"\n",
        "  En '__init__' siempre delcaramos los atributos (o características) del objeto\n",
        "  \"\"\"\n",
        "  def __init__ (self, c = \"pardo\", r = \"mestizo\", s = \"hembra\", e = 1, p = 1.5): # Aquí le ponemos los valores predefinidos\n",
        "    \"\"\"Constructor con parámetros por defecto.\"\"\"\n",
        "    self.color = c\n",
        "    self.raza = r\n",
        "    self.sexo = s\n",
        "    self.edad = e\n",
        "    self.peso = p\n",
        "  \n",
        "  \"\"\"\n",
        "  Aquí empezamos a declarar los métodos del objeto.\n",
        "  Siempre añadiremos 'self', que estará explicado más adelante.\n",
        "  \"\"\"\n",
        "  def maulla(self):\n",
        "    print(\"Miauuuu\")\n",
        " \n",
        "  def ronronea(self):\n",
        "    print(\"mrrrrrr\");\n",
        "    \n",
        "  def come(self, comida): # Self siempre estará, que es el objeto al que llamamos, y la comida la pasaremos como parámetro al llamar al método.\n",
        "    \"\"\"A los gatos les gusta el pescado, si le damos otra comida, la rechazará.\"\"\"\n",
        "    if comida == \"pescado\":\n",
        "      print(\"Hmmmm, gracias\")\n",
        "    else:\n",
        "      print(\"Lo siento, yo solo como pescado\")\n",
        "\n",
        "  def pelea_con(self, contrincante): # Aquí deberemos pasar otro objeto\n",
        "    \"\"\"\n",
        "    Pone a pelear dos gatos.\n",
        "    Solo se van a pelear dos machos entre sí.\n",
        "    \"\"\"\n",
        "    if self.sexo == \"hembra\": # Para comprobar el sexo del 'gato' al que nos referimos, usamos 'self'\n",
        "      print(\"no me gusta pelear\")\n",
        "    else:\n",
        "      if contrincante.sexo == \"hembra\": # Para comprobar el del 'contrincante', le haremos referencia con el nombre de la variable que hemos edclarado en el método\n",
        "        print(\"no peleo contra gatitas\")\n",
        "      else:\n",
        "        print(\"ven aquí que te vas a enterar\")"
      ]
    },
    {
      "cell_type": "markdown",
      "metadata": {},
      "source": [
        "Un ejemplo del uso de objetos, sería el siguiente:"
      ]
    },
    {
      "cell_type": "code",
      "execution_count": 3,
      "metadata": {},
      "outputs": [
        {
          "name": "stdout",
          "output_type": "stream",
          "text": [
            "hola gatito\n",
            "Miauuuu\n",
            "toma tarta\n",
            "Lo siento, yo solo como pescado\n",
            "toma pescado, a ver si esto te gusta\n",
            "Hmmmm, gracias\n",
            "Tom, toma sopita de verduras\n",
            "Lo siento, yo solo como pescado\n",
            "gatitos, a ver cómo maulláis\n",
            "Miauuuu\n",
            "Miauuuu\n",
            "Miauuuu\n",
            "no peleo contra gatitas\n",
            "no me gusta pelear\n",
            "ven aquí que te vas a enterar\n"
          ]
        }
      ],
      "source": [
        "# Prueba la clase Gato\n",
        "    \n",
        "garfield = Gato(s = \"macho\") # Si no vamos a definir todos los atributos, tenemos que especificar cuál vamos cambiar\n",
        "\n",
        "print(\"hola gatito\")\n",
        "garfield.maulla()\n",
        "\n",
        "print(\"toma tarta\")\n",
        "garfield.come(\"tarta selva negra\")\n",
        "print(\"toma pescado, a ver si esto te gusta\")\n",
        "garfield.come(\"pescado\")\n",
        "\n",
        "tom = Gato(s = \"macho\", p = 2.5)\n",
        "\n",
        "print(\"Tom, toma sopita de verduras\")\n",
        "tom.come(\"sopa de verduras\")\n",
        "\n",
        "lisa = Gato(\"blanco\", \"angora\", \"hembra\", 3, 1.75) # Si vamos a introducir todos los atributos, los ponemos en orden y no necesitaremos especificar\n",
        "\n",
        "print(\"gatitos, a ver cómo maulláis\")\n",
        "garfield.maulla()\n",
        "tom.maulla()\n",
        "lisa.maulla()\n",
        "\n",
        "garfield.pelea_con(lisa)\n",
        "lisa.pelea_con(tom)\n",
        "tom.pelea_con(garfield)"
      ]
    },
    {
      "cell_type": "markdown",
      "metadata": {},
      "source": [
        "### **QUÉ ES `SELF`**"
      ]
    },
    {
      "cell_type": "markdown",
      "metadata": {},
      "source": [
        "Al trabajar con objetos, siempre haremos referencia a sí mismo.  \n",
        "Sí, es raro ten en cuenta lo siguiente:  \n",
        "  \n",
        "Tenemos el objeto `coche`, y queremos hablar de sus características ***(sobre las características de sí mismo)***, como la marca, el color, número de plazas..."
      ]
    }
  ],
  "metadata": {
    "colab": {
      "collapsed_sections": [],
      "provenance": []
    },
    "kernelspec": {
      "display_name": "Python 3.10.7 64-bit",
      "language": "python",
      "name": "python3"
    },
    "language_info": {
      "codemirror_mode": {
        "name": "ipython",
        "version": 3
      },
      "file_extension": ".py",
      "mimetype": "text/x-python",
      "name": "python",
      "nbconvert_exporter": "python",
      "pygments_lexer": "ipython3",
      "version": "3.10.7"
    },
    "vscode": {
      "interpreter": {
        "hash": "535a1765eade9418e23f42dd0be2f9d3715366318b517911f9ee3ebda92030be"
      }
    }
  },
  "nbformat": 4,
  "nbformat_minor": 0
}
